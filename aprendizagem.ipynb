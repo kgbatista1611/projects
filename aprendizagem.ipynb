{
 "cells": [
  {
   "cell_type": "code",
   "execution_count": 5,
   "id": "829bf1ae",
   "metadata": {},
   "outputs": [
    {
     "name": "stdout",
     "output_type": "stream",
     "text": [
      "p\n",
      "y\n",
      "t\n",
      "h\n",
      "o\n",
      "n\n",
      " \n",
      "é\n",
      " \n",
      "a\n",
      " \n",
      "m\n",
      "e\n",
      "l\n",
      "h\n",
      "o\n",
      "r\n",
      " \n",
      "l\n",
      "i\n",
      "n\n",
      "g\n",
      "u\n",
      "a\n",
      "g\n",
      "e\n",
      "m\n",
      " \n",
      "p\n",
      "a\n",
      "r\n",
      "a\n",
      " \n",
      "c\n",
      "i\n",
      "ê\n",
      "n\n",
      "c\n",
      "i\n",
      "a\n",
      " \n",
      "d\n",
      "e\n",
      " \n",
      "d\n",
      "a\n",
      "d\n",
      "o\n",
      "s\n"
     ]
    }
   ],
   "source": [
    "\n",
    "for caracter in 'python é a melhor linguagem para ciência de dados':\n",
    "    print (caracter)"
   ]
  },
  {
   "cell_type": "code",
   "execution_count": 6,
   "id": "8d84ecdb",
   "metadata": {},
   "outputs": [
    {
     "name": "stdout",
     "output_type": "stream",
     "text": [
      "0\n",
      "1\n",
      "2\n",
      "3\n",
      "4\n",
      "5\n"
     ]
    }
   ],
   "source": [
    "for i in range(0,6):\n",
    "    print(i)"
   ]
  },
  {
   "cell_type": "code",
   "execution_count": 7,
   "id": "1371e781",
   "metadata": {},
   "outputs": [
    {
     "name": "stdout",
     "output_type": "stream",
     "text": [
      "0\n",
      "1\n",
      "2\n",
      "3\n",
      "4\n",
      "5\n",
      "0\n",
      "1\n",
      "2\n",
      "3\n",
      "4\n",
      "5\n",
      "0\n",
      "1\n",
      "2\n",
      "3\n",
      "4\n",
      "5\n",
      "0\n",
      "1\n",
      "2\n",
      "3\n",
      "4\n",
      "5\n",
      "0\n",
      "1\n",
      "2\n",
      "3\n",
      "4\n",
      "5\n",
      "0\n",
      "1\n",
      "2\n",
      "3\n",
      "4\n",
      "5\n"
     ]
    }
   ],
   "source": [
    "for i in range(0,6):\n",
    "    for a in range(0,6):\n",
    "        print(a)"
   ]
  },
  {
   "cell_type": "code",
   "execution_count": 1,
   "id": "cca89688",
   "metadata": {},
   "outputs": [
    {
     "name": "stdout",
     "output_type": "stream",
     "text": [
      "carro\n",
      "ecosport\n",
      "novo\n",
      "Minha escolha será carro, ecosport, novo!\n"
     ]
    }
   ],
   "source": [
    "def escolhas(veiculo, modelo, estado):\n",
    "    \n",
    "    print (\"Minha escolha será {0}, {1}, {2}!\".format(veiculo, modelo, estado))\n",
    "    \n",
    "escolhas(input(), input(), input())"
   ]
  },
  {
   "cell_type": "code",
   "execution_count": null,
   "id": "8e1a7db5",
   "metadata": {},
   "outputs": [],
   "source": [
    "\n",
    "lista = []\n",
    "vezes= input()\n",
    "\n",
    "for resultado in range(vezes)\n",
    "    soma= int(input())\n",
    "    i= int(input())\n",
    "    resultado= soma+i\n",
    "    lista.append(resultado)\n",
    "\n",
    "    \n",
    "    \n",
    "print(lista)\n",
    "\n",
    "\n"
   ]
  },
  {
   "cell_type": "code",
   "execution_count": null,
   "id": "c4aa89fb",
   "metadata": {},
   "outputs": [],
   "source": [
    "read()"
   ]
  },
  {
   "cell_type": "code",
   "execution_count": null,
   "id": "9a0643a3",
   "metadata": {},
   "outputs": [],
   "source": []
  }
 ],
 "metadata": {
  "kernelspec": {
   "display_name": "Python 3 (ipykernel)",
   "language": "python",
   "name": "python3"
  },
  "language_info": {
   "codemirror_mode": {
    "name": "ipython",
    "version": 3
   },
   "file_extension": ".py",
   "mimetype": "text/x-python",
   "name": "python",
   "nbconvert_exporter": "python",
   "pygments_lexer": "ipython3",
   "version": "3.9.13"
  }
 },
 "nbformat": 4,
 "nbformat_minor": 5
}
